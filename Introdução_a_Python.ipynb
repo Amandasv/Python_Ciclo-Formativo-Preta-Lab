{
  "nbformat": 4,
  "nbformat_minor": 0,
  "metadata": {
    "colab": {
      "provenance": [],
      "collapsed_sections": [
        "4rrPjHUf1Yt1",
        "jdjgzaSV2T_m",
        "MR0lZz_e2gbU",
        "VkD-E7-E3AsR",
        "9oeihviO88Qn"
      ],
      "toc_visible": true,
      "authorship_tag": "ABX9TyMnACnfcQkwkpKsCrt+46EB",
      "include_colab_link": true
    },
    "kernelspec": {
      "name": "python3",
      "display_name": "Python 3"
    },
    "language_info": {
      "name": "python"
    }
  },
  "cells": [
    {
      "cell_type": "markdown",
      "metadata": {
        "id": "view-in-github",
        "colab_type": "text"
      },
      "source": [
        "<a href=\"https://colab.research.google.com/github/Amandasv/Python_Ciclo-Formativo-Preta-Lab/blob/main/Introdu%C3%A7%C3%A3o_a_Python.ipynb\" target=\"_parent\"><img src=\"https://colab.research.google.com/assets/colab-badge.svg\" alt=\"Open In Colab\"/></a>"
      ]
    },
    {
      "cell_type": "markdown",
      "source": [
        "# Introdução a Python\n",
        "\n",
        "Python é uma das linguagens de programação mais populares do mundo nos últimos anos. Chegando a estar no primeiro lugar 1 lugar em muitos rankings pelo mundo.\n",
        "\n",
        "É uma linguagem extremamente versátil, funcionando tanto para o aprendizado de máquinas, construção de sites até para automação de tarefas e testes de softwares.\n",
        "\n",
        "Além disso, também é muito próxima da linguagem humana, facilitando o aprendizado e manutenção."
      ],
      "metadata": {
        "id": "sfxpH7Abzuwk"
      }
    },
    {
      "cell_type": "markdown",
      "source": [
        "## Mas, o que é Python?\n",
        "Python é uma linguagem de programação de uso geral. Como falado anteriormente, essa linguagem funciona para criar uma grande variedade de aplicações diferentes, como desenvolvimento de software, análise de dados, inteligência artificial, automação de tarefas, criação de aplicativos web e daí por diante."
      ],
      "metadata": {
        "id": "Lff72gS9vaOY"
      }
    },
    {
      "cell_type": "markdown",
      "source": [
        "## Algumas caracteristicas\n",
        "\n",
        "### Linguagem interpretada\n",
        "Significa que ela não precisa passar pelo processo de compilação. O processo de interpretação é executado dentro de máquinas virtuais, nas quais o código passa por uma camada intermediária que irá traduzir os comandos de programa para código binário.\n",
        "\n",
        "### Sintaxe simples\n",
        "Se trata de uma linguagem de alto nível. Sua sintaxe é simples, fácil de aprender e muito próxima da linguagem falada por nós.\n",
        "\n",
        "\n",
        "### Áreas que mais utilizam Python\n",
        "\n",
        "\n",
        "1.   Análise de Dados;\n",
        "2.   Aprendizado de Máquina;\n",
        "3.   Desenvolvimento Web;\n",
        "4.   DevOps.;\n",
        "\n"
      ],
      "metadata": {
        "id": "mOEL1KRIv2u2"
      }
    },
    {
      "cell_type": "markdown",
      "source": [
        "# Hora de Praticar\n"
      ],
      "metadata": {
        "id": "zvy1r_Vv0MHt"
      }
    },
    {
      "cell_type": "markdown",
      "source": [
        "### Python como uma calculadora"
      ],
      "metadata": {
        "id": "4rrPjHUf1Yt1"
      }
    },
    {
      "cell_type": "markdown",
      "source": [],
      "metadata": {
        "id": "mGOb0tSr2O9P"
      }
    },
    {
      "cell_type": "code",
      "source": [
        "2 + 3"
      ],
      "metadata": {
        "id": "M8-nowfBXCN7"
      },
      "execution_count": null,
      "outputs": []
    },
    {
      "cell_type": "code",
      "source": [
        "5 * 4"
      ],
      "metadata": {
        "id": "MVxcMIPQ1k1l"
      },
      "execution_count": null,
      "outputs": []
    },
    {
      "cell_type": "code",
      "source": [
        "(12450983 * 9902 + 32) / 57"
      ],
      "metadata": {
        "id": "l-oDw2p31pZz"
      },
      "execution_count": null,
      "outputs": []
    },
    {
      "cell_type": "markdown",
      "source": [
        "### Strings"
      ],
      "metadata": {
        "id": "jdjgzaSV2T_m"
      }
    },
    {
      "cell_type": "code",
      "source": [
        "\"Amanda\""
      ],
      "metadata": {
        "id": "xFmW_BV5y7-n"
      },
      "execution_count": null,
      "outputs": []
    },
    {
      "cell_type": "code",
      "source": [
        "\"Meu nome é\""
      ],
      "metadata": {
        "id": "99plPeFi2j9a"
      },
      "execution_count": null,
      "outputs": []
    },
    {
      "cell_type": "markdown",
      "source": [
        "### Operadores"
      ],
      "metadata": {
        "id": "MR0lZz_e2gbU"
      }
    },
    {
      "cell_type": "code",
      "source": [
        "\"Oi\" + \"Amanda\""
      ],
      "metadata": {
        "id": "TCq2EKJIy821"
      },
      "execution_count": null,
      "outputs": []
    },
    {
      "cell_type": "code",
      "source": [
        "\"oi\"* 3"
      ],
      "metadata": {
        "id": "IFdlf51lB1t-"
      },
      "execution_count": null,
      "outputs": []
    },
    {
      "cell_type": "markdown",
      "source": [
        "### Funções"
      ],
      "metadata": {
        "id": "VkD-E7-E3AsR"
      }
    },
    {
      "cell_type": "code",
      "source": [
        "\"amanda\".upper()"
      ],
      "metadata": {
        "id": "n3yTzDb7BQ2Y"
      },
      "execution_count": null,
      "outputs": []
    },
    {
      "cell_type": "code",
      "source": [
        "len('Amanda')"
      ],
      "metadata": {
        "id": "J6KuphJTBdoJ"
      },
      "execution_count": null,
      "outputs": []
    },
    {
      "cell_type": "markdown",
      "source": [
        "### Erros"
      ],
      "metadata": {
        "id": "f6-zvaXf3Rn7"
      }
    },
    {
      "cell_type": "code",
      "source": [
        "len(304023)\n"
      ],
      "metadata": {
        "id": "oYReV9FJGwc1"
      },
      "execution_count": null,
      "outputs": []
    },
    {
      "cell_type": "markdown",
      "source": [
        "### Gemini IA\n"
      ],
      "metadata": {
        "id": "vcolYA5s32Se"
      }
    },
    {
      "cell_type": "markdown",
      "source": [
        "# Avançando um pouco mais\n"
      ],
      "metadata": {
        "id": "RpGMFFca4Q7E"
      }
    },
    {
      "cell_type": "markdown",
      "source": [
        "### Variáveis\n"
      ],
      "metadata": {
        "id": "ISGwNDHh4m0X"
      }
    },
    {
      "cell_type": "code",
      "source": [
        "nome = \"Ola\"\n",
        "nome"
      ],
      "metadata": {
        "id": "OYS_ibsEJN9m"
      },
      "execution_count": null,
      "outputs": []
    },
    {
      "cell_type": "code",
      "source": [
        "a = 4\n",
        "b = 6\n",
        "c = a + b\n",
        "c"
      ],
      "metadata": {
        "id": "4dkyguQDJZJ_"
      },
      "execution_count": null,
      "outputs": []
    },
    {
      "cell_type": "code",
      "source": [
        "cidade= \"Tokyo\"\n",
        "cidad"
      ],
      "metadata": {
        "id": "tqOZsj_fJf7H"
      },
      "execution_count": null,
      "outputs": []
    },
    {
      "cell_type": "markdown",
      "source": [
        "### Listas\n"
      ],
      "metadata": {
        "id": "ResTH90F5KX4"
      }
    },
    {
      "cell_type": "code",
      "source": [
        "loteria = [3, 42, 12, 19, 30, 59]\n",
        "loteria\n",
        "len(loteria)"
      ],
      "metadata": {
        "colab": {
          "base_uri": "https://localhost:8080/"
        },
        "id": "WAYllfesKFb3",
        "outputId": "46aaad37-1159-45da-f60a-3ef192e97937"
      },
      "execution_count": 29,
      "outputs": [
        {
          "output_type": "execute_result",
          "data": {
            "text/plain": [
              "6"
            ]
          },
          "metadata": {},
          "execution_count": 29
        }
      ]
    },
    {
      "cell_type": "code",
      "source": [
        "lista_de_compras = ['arroz', 'feijão', 'ovo']\n",
        "lista_de_compras.append('leite')\n",
        "lista_de_compras"
      ],
      "metadata": {
        "id": "_BOhw3ZB5nFc"
      },
      "execution_count": null,
      "outputs": []
    },
    {
      "cell_type": "markdown",
      "source": [
        "### Print()\n"
      ],
      "metadata": {
        "id": "-U3ApYqQ5YkO"
      }
    },
    {
      "cell_type": "code",
      "source": [
        "print(loteria)\n",
        "loteria.sort()\n",
        "loteria"
      ],
      "metadata": {
        "id": "3yAGJ00rKiSH"
      },
      "execution_count": null,
      "outputs": []
    },
    {
      "cell_type": "markdown",
      "source": [
        "### Dicionários\n"
      ],
      "metadata": {
        "id": "vIAi2HRo7Dja"
      }
    },
    {
      "cell_type": "code",
      "source": [
        "participante = {'nome': 'Rebeca', 'pais': 'Brasil', 'numeros_favoritos': [7, 42, 92]}\n",
        "print(participante)"
      ],
      "metadata": {
        "id": "Is1wMwPTLQYe",
        "colab": {
          "base_uri": "https://localhost:8080/"
        },
        "outputId": "4e269610-8b52-42a0-86ae-3c631f83ee39"
      },
      "execution_count": 39,
      "outputs": [
        {
          "output_type": "stream",
          "name": "stdout",
          "text": [
            "{'nome': 'Rebeca', 'pais': 'Brasil', 'numeros_favoritos': [7, 42, 92]}\n"
          ]
        }
      ]
    },
    {
      "cell_type": "code",
      "source": [
        "print(participante['nome'])\n"
      ],
      "metadata": {
        "id": "lQpbS6k2LRTd",
        "colab": {
          "base_uri": "https://localhost:8080/"
        },
        "outputId": "daf88c4c-b01a-4da5-fda6-c5fb87854e32"
      },
      "execution_count": 40,
      "outputs": [
        {
          "output_type": "stream",
          "name": "stdout",
          "text": [
            "Rebeca\n"
          ]
        }
      ]
    },
    {
      "cell_type": "code",
      "source": [
        "print(len(participante['numeros_favoritos']))"
      ],
      "metadata": {
        "colab": {
          "base_uri": "https://localhost:8080/"
        },
        "id": "RBZpVhmD77Q9",
        "outputId": "f440ed14-5f26-4d00-8d71-eae499febad9"
      },
      "execution_count": 41,
      "outputs": [
        {
          "output_type": "stream",
          "name": "stdout",
          "text": [
            "3\n"
          ]
        }
      ]
    },
    {
      "cell_type": "markdown",
      "source": [
        "### Comparações\n"
      ],
      "metadata": {
        "id": "rj01qnul8FWb"
      }
    },
    {
      "cell_type": "code",
      "source": [
        "5 > 4"
      ],
      "metadata": {
        "id": "TF9FPwNkLvf4",
        "colab": {
          "base_uri": "https://localhost:8080/"
        },
        "outputId": "7c3a87b7-0fe5-4292-c319-c0145f23ff89"
      },
      "execution_count": 42,
      "outputs": [
        {
          "output_type": "execute_result",
          "data": {
            "text/plain": [
              "True"
            ]
          },
          "metadata": {},
          "execution_count": 42
        }
      ]
    },
    {
      "cell_type": "code",
      "source": [
        "2 < 1"
      ],
      "metadata": {
        "colab": {
          "base_uri": "https://localhost:8080/"
        },
        "id": "Lt-dRvql8SFU",
        "outputId": "f9a87abb-4c70-46ca-a022-be774ffb8025"
      },
      "execution_count": 44,
      "outputs": [
        {
          "output_type": "execute_result",
          "data": {
            "text/plain": [
              "False"
            ]
          },
          "metadata": {},
          "execution_count": 44
        }
      ]
    },
    {
      "cell_type": "code",
      "source": [
        "10 < 7 * 3"
      ],
      "metadata": {
        "colab": {
          "base_uri": "https://localhost:8080/"
        },
        "id": "GWjpFBp38WL3",
        "outputId": "60578321-9d01-4865-825f-511982394a1a"
      },
      "execution_count": 46,
      "outputs": [
        {
          "output_type": "execute_result",
          "data": {
            "text/plain": [
              "True"
            ]
          },
          "metadata": {},
          "execution_count": 46
        }
      ]
    },
    {
      "cell_type": "markdown",
      "source": [
        "#### Igual ou Diferente\n"
      ],
      "metadata": {
        "id": "9oeihviO88Qn"
      }
    },
    {
      "cell_type": "code",
      "source": [
        "3 == 3"
      ],
      "metadata": {
        "colab": {
          "base_uri": "https://localhost:8080/"
        },
        "id": "wvWOaJr68PNd",
        "outputId": "918a16b8-ae75-4b12-96bf-a177bc02fe04"
      },
      "execution_count": 43,
      "outputs": [
        {
          "output_type": "execute_result",
          "data": {
            "text/plain": [
              "True"
            ]
          },
          "metadata": {},
          "execution_count": 43
        }
      ]
    },
    {
      "cell_type": "code",
      "source": [
        "3 != 3"
      ],
      "metadata": {
        "colab": {
          "base_uri": "https://localhost:8080/"
        },
        "id": "96MYTxAt8dYe",
        "outputId": "36504bf4-2f0d-43da-e35f-7b8b6dea2da3"
      },
      "execution_count": 47,
      "outputs": [
        {
          "output_type": "execute_result",
          "data": {
            "text/plain": [
              "False"
            ]
          },
          "metadata": {},
          "execution_count": 47
        }
      ]
    },
    {
      "cell_type": "markdown",
      "source": [
        "#### Maior ou igual (>=) e Menor ou igual (<=)\n"
      ],
      "metadata": {
        "id": "NFGHhg5I9o4W"
      }
    },
    {
      "cell_type": "code",
      "source": [
        "3 >= 3"
      ],
      "metadata": {
        "colab": {
          "base_uri": "https://localhost:8080/"
        },
        "id": "1PXurJJk8xzh",
        "outputId": "0f4357ae-52e3-440c-9ffd-677050f08753"
      },
      "execution_count": 49,
      "outputs": [
        {
          "output_type": "execute_result",
          "data": {
            "text/plain": [
              "True"
            ]
          },
          "metadata": {},
          "execution_count": 49
        }
      ]
    },
    {
      "cell_type": "code",
      "source": [
        "9 <=4"
      ],
      "metadata": {
        "colab": {
          "base_uri": "https://localhost:8080/"
        },
        "id": "6o5rg8qq8sK1",
        "outputId": "63322b2c-e650-4751-9a8c-098190ad2c72"
      },
      "execution_count": 48,
      "outputs": [
        {
          "output_type": "execute_result",
          "data": {
            "text/plain": [
              "False"
            ]
          },
          "metadata": {},
          "execution_count": 48
        }
      ]
    },
    {
      "cell_type": "code",
      "source": [
        "5 >= 3"
      ],
      "metadata": {
        "id": "mm0Ou4VY8ngJ"
      },
      "execution_count": null,
      "outputs": []
    },
    {
      "cell_type": "markdown",
      "source": [
        "#### and e or\n"
      ],
      "metadata": {
        "id": "RlJzy5MH9Y7C"
      }
    },
    {
      "cell_type": "code",
      "source": [
        "6 > 5 and 5 > 4"
      ],
      "metadata": {
        "colab": {
          "base_uri": "https://localhost:8080/"
        },
        "id": "tW5b-9qz95zE",
        "outputId": "526606fb-1312-43e2-f675-a88deeb73293"
      },
      "execution_count": 50,
      "outputs": [
        {
          "output_type": "execute_result",
          "data": {
            "text/plain": [
              "True"
            ]
          },
          "metadata": {},
          "execution_count": 50
        }
      ]
    },
    {
      "cell_type": "code",
      "source": [
        "6 > 5 or 5 > 4"
      ],
      "metadata": {
        "colab": {
          "base_uri": "https://localhost:8080/"
        },
        "outputId": "eeb4a803-c188-435b-8b68-2605326ff16b",
        "id": "gaOQgniv-MOF"
      },
      "execution_count": 53,
      "outputs": [
        {
          "output_type": "execute_result",
          "data": {
            "text/plain": [
              "True"
            ]
          },
          "metadata": {},
          "execution_count": 53
        }
      ]
    },
    {
      "cell_type": "code",
      "source": [
        "'maça' > 3"
      ],
      "metadata": {
        "id": "xRP7ZaNx-q_Y"
      },
      "execution_count": null,
      "outputs": []
    },
    {
      "cell_type": "markdown",
      "source": [
        "### Booleanos\n"
      ],
      "metadata": {
        "id": "6zt5iLy0_Peh"
      }
    },
    {
      "cell_type": "code",
      "source": [
        "a = True\n",
        "a\n"
      ],
      "metadata": {
        "colab": {
          "base_uri": "https://localhost:8080/"
        },
        "id": "mnnNNuvK_UAH",
        "outputId": "ff2e9dd0-3547-4e97-a185-7c8d114fa146"
      },
      "execution_count": 57,
      "outputs": [
        {
          "output_type": "execute_result",
          "data": {
            "text/plain": [
              "True"
            ]
          },
          "metadata": {},
          "execution_count": 57
        }
      ]
    },
    {
      "cell_type": "code",
      "source": [
        "a = 3 > 4\n",
        "a"
      ],
      "metadata": {
        "colab": {
          "base_uri": "https://localhost:8080/"
        },
        "id": "D7C-85ad_Ywy",
        "outputId": "24554a25-bcde-473a-c623-2bcb1d2ae410"
      },
      "execution_count": 58,
      "outputs": [
        {
          "output_type": "execute_result",
          "data": {
            "text/plain": [
              "False"
            ]
          },
          "metadata": {},
          "execution_count": 58
        }
      ]
    },
    {
      "cell_type": "code",
      "source": [
        "True and True"
      ],
      "metadata": {
        "colab": {
          "base_uri": "https://localhost:8080/"
        },
        "id": "NpRzjzV__gJe",
        "outputId": "cd06b606-eaee-489f-faf4-108e5d32ce17"
      },
      "execution_count": 59,
      "outputs": [
        {
          "output_type": "execute_result",
          "data": {
            "text/plain": [
              "True"
            ]
          },
          "metadata": {},
          "execution_count": 59
        }
      ]
    },
    {
      "cell_type": "code",
      "source": [
        "True and False"
      ],
      "metadata": {
        "colab": {
          "base_uri": "https://localhost:8080/"
        },
        "id": "I-00vqHu_qDC",
        "outputId": "2840535c-e7d3-49b9-9912-9b78a454f57a"
      },
      "execution_count": 61,
      "outputs": [
        {
          "output_type": "execute_result",
          "data": {
            "text/plain": [
              "False"
            ]
          },
          "metadata": {},
          "execution_count": 61
        }
      ]
    },
    {
      "cell_type": "code",
      "source": [
        "True and true"
      ],
      "metadata": {
        "id": "Z-Cmxlj5_kdt"
      },
      "execution_count": null,
      "outputs": []
    },
    {
      "cell_type": "code",
      "source": [
        "True and false"
      ],
      "metadata": {
        "id": "cJi5FFyF_tXO"
      },
      "execution_count": null,
      "outputs": []
    },
    {
      "cell_type": "code",
      "source": [
        "True and 3 < 4 == 3"
      ],
      "metadata": {
        "colab": {
          "base_uri": "https://localhost:8080/"
        },
        "id": "vR2Iz6pz_wpI",
        "outputId": "a1dd0a70-ff3d-4b36-c834-e6e2e18901e2"
      },
      "execution_count": 64,
      "outputs": [
        {
          "output_type": "execute_result",
          "data": {
            "text/plain": [
              "False"
            ]
          },
          "metadata": {},
          "execution_count": 64
        }
      ]
    },
    {
      "cell_type": "markdown",
      "source": [
        "### Condições\n"
      ],
      "metadata": {
        "id": "eC3SOzYZAcbF"
      }
    },
    {
      "cell_type": "code",
      "source": [
        "if 3 > 2:\n",
        "    print('Isso funciona!')"
      ],
      "metadata": {
        "colab": {
          "base_uri": "https://localhost:8080/"
        },
        "id": "xw8AuuPHMBVl",
        "outputId": "95b6cc0b-d103-49c0-ea0b-232f62b9f493"
      },
      "execution_count": 65,
      "outputs": [
        {
          "output_type": "stream",
          "name": "stdout",
          "text": [
            "Isso funciona!\n"
          ]
        }
      ]
    },
    {
      "cell_type": "code",
      "source": [
        "if True:\n",
        "    print('Isso também funciona!')"
      ],
      "metadata": {
        "id": "ct6ua0_wMOHj",
        "colab": {
          "base_uri": "https://localhost:8080/"
        },
        "outputId": "a81e9504-33d6-49d2-8bdf-8f6c32b1640b"
      },
      "execution_count": 66,
      "outputs": [
        {
          "output_type": "stream",
          "name": "stdout",
          "text": [
            "Isso também funciona!\n"
          ]
        }
      ]
    },
    {
      "cell_type": "code",
      "source": [
        "if False:\n",
        "    print('Isso não funciona!')"
      ],
      "metadata": {
        "id": "n2OZCpJ-AqsP"
      },
      "execution_count": 67,
      "outputs": []
    },
    {
      "cell_type": "code",
      "source": [
        "if 5 < 2:\n",
        "    print('5 é menor que 2')\n",
        "else:\n",
        "    print('5 não é maior que 2')"
      ],
      "metadata": {
        "colab": {
          "base_uri": "https://localhost:8080/"
        },
        "id": "SqLDaDaSAzPn",
        "outputId": "e982aa5d-b923-453b-f6cd-66c7c6122bb9"
      },
      "execution_count": 69,
      "outputs": [
        {
          "output_type": "stream",
          "name": "stdout",
          "text": [
            "5 não é maior que 2\n"
          ]
        }
      ]
    },
    {
      "cell_type": "code",
      "source": [
        "estado = 'RS'\n",
        "if estado == 'RJ':\n",
        "    print('O cliente vive em Rio de Janeiro')\n",
        "elif estado == 'SP':\n",
        "    print('O cliente vive em São Paulo')\n",
        "elif estado == 'MG':\n",
        "    print('O cliente vive em Minas Gerais')\n",
        "else:\n",
        "    print('O cliente vive em outro lugar')"
      ],
      "metadata": {
        "colab": {
          "base_uri": "https://localhost:8080/"
        },
        "id": "0AO6NAR1BclJ",
        "outputId": "29a00cf9-d9d6-414a-ae61-4afeb17b3b35"
      },
      "execution_count": 72,
      "outputs": [
        {
          "output_type": "stream",
          "name": "stdout",
          "text": [
            "O cliente vive em outro lugar\n"
          ]
        }
      ]
    },
    {
      "cell_type": "markdown",
      "source": [
        "Suas próprias funções\n"
      ],
      "metadata": {
        "id": "EYOsLO4xMOhk"
      }
    },
    {
      "cell_type": "markdown",
      "source": [
        "https://afropython.gitbook.io/tutorial/introducao-3/listas"
      ],
      "metadata": {
        "id": "-YKhfpPwM4Qu"
      }
    },
    {
      "cell_type": "code",
      "source": [],
      "metadata": {
        "id": "u3C3PrhZxyVT"
      },
      "execution_count": null,
      "outputs": []
    }
  ]
}
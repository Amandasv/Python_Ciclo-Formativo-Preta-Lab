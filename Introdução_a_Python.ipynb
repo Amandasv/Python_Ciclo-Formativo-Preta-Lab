{
  "nbformat": 4,
  "nbformat_minor": 0,
  "metadata": {
    "colab": {
      "provenance": [],
      "collapsed_sections": [
        "mOEL1KRIv2u2"
      ],
      "authorship_tag": "ABX9TyNK3fiSwN3oLyyVZ7UQr3P7",
      "include_colab_link": true
    },
    "kernelspec": {
      "name": "python3",
      "display_name": "Python 3"
    },
    "language_info": {
      "name": "python"
    }
  },
  "cells": [
    {
      "cell_type": "markdown",
      "metadata": {
        "id": "view-in-github",
        "colab_type": "text"
      },
      "source": [
        "<a href=\"https://colab.research.google.com/github/Amandasv/Python_Ciclo-Formativo-Preta-Lab/blob/main/Introdu%C3%A7%C3%A3o_a_Python.ipynb\" target=\"_parent\"><img src=\"https://colab.research.google.com/assets/colab-badge.svg\" alt=\"Open In Colab\"/></a>"
      ]
    },
    {
      "cell_type": "markdown",
      "source": [
        "# Introdução a Python\n",
        "\n",
        "Python é uma das linguagens de programação mais populares do mundo nos últimos anos. Chegando a estar no primeiro lugar 1 lugar em muitos rankings pelo mundo.\n",
        "\n",
        "É uma linguagem extremamente versátil, funcionando tanto para o aprendizado de máquinas, construção de sites até para automação de tarefas e testes de softwares.\n",
        "\n",
        "Além disso, também é muito próxima da linguagem humana, facilitando o aprendizado e manutenção."
      ],
      "metadata": {
        "id": "sfxpH7Abzuwk"
      }
    },
    {
      "cell_type": "markdown",
      "source": [
        "## Mas, o que é Python?\n",
        "Python é uma linguagem de programação de uso geral. Como falado anteriormente, essa linguagem funciona para criar uma grande variedade de aplicações diferentes, como desenvolvimento de software, análise de dados, inteligência artificial, automação de tarefas, criação de aplicativos web e daí por diante."
      ],
      "metadata": {
        "id": "Lff72gS9vaOY"
      }
    },
    {
      "cell_type": "markdown",
      "source": [
        "## Algumas caracteristicas\n",
        "\n",
        "### Linguagem interpretada\n",
        "Significa que ela não precisa passar pelo processo de compilação. O processo de interpretação é executado dentro de máquinas virtuais, nas quais o código passa por uma camada intermediária que irá traduzir os comandos de programa para código binário.\n",
        "\n",
        "### Sintaxe simples\n",
        "Se trata de uma linguagem de alto nível. Sua sintaxe é simples, fácil de aprender e muito próxima da linguagem falada por nós.\n",
        "\n",
        "## Áreas que mais utilizam Python\n",
        "\n",
        "\n",
        "1.   Análise de Dados;\n",
        "2.   Aprendizado de Máquina;\n",
        "3.   Desenvolvimento Web;\n",
        "4.   DevOps.;\n",
        "\n"
      ],
      "metadata": {
        "id": "mOEL1KRIv2u2"
      }
    },
    {
      "cell_type": "code",
      "source": [
        "#Python como uma calculadora\n",
        "2 + 3"
      ],
      "metadata": {
        "id": "M8-nowfBXCN7",
        "colab": {
          "base_uri": "https://localhost:8080/"
        },
        "outputId": "5e45cbcc-0dc0-403f-d46d-3d6c213be775"
      },
      "execution_count": 2,
      "outputs": [
        {
          "output_type": "execute_result",
          "data": {
            "text/plain": [
              "5"
            ]
          },
          "metadata": {},
          "execution_count": 2
        }
      ]
    },
    {
      "cell_type": "markdown",
      "source": [],
      "metadata": {
        "id": "VBy1sqVty0Ze"
      }
    },
    {
      "cell_type": "code",
      "source": [
        "#Strings\n",
        "\n",
        "\"Amanda\""
      ],
      "metadata": {
        "colab": {
          "base_uri": "https://localhost:8080/",
          "height": 35
        },
        "id": "xFmW_BV5y7-n",
        "outputId": "b3856abc-64a9-4ec4-f498-bd22d7d690da"
      },
      "execution_count": null,
      "outputs": [
        {
          "output_type": "execute_result",
          "data": {
            "text/plain": [
              "'Amanda'"
            ],
            "application/vnd.google.colaboratory.intrinsic+json": {
              "type": "string"
            }
          },
          "metadata": {},
          "execution_count": 8
        }
      ]
    },
    {
      "cell_type": "code",
      "source": [],
      "metadata": {
        "id": "j1Ym3ucizl8t"
      },
      "execution_count": null,
      "outputs": []
    },
    {
      "cell_type": "markdown",
      "source": [
        "Operadores"
      ],
      "metadata": {
        "id": "psQ5N9-xByap"
      }
    },
    {
      "cell_type": "code",
      "source": [
        "\"Oi\" + \"Amanda\""
      ],
      "metadata": {
        "colab": {
          "base_uri": "https://localhost:8080/",
          "height": 35
        },
        "id": "TCq2EKJIy821",
        "outputId": "53812ea3-3aa9-4005-e2e8-12e1c8e7b29f"
      },
      "execution_count": null,
      "outputs": [
        {
          "output_type": "execute_result",
          "data": {
            "text/plain": [
              "'OiAmanda'"
            ],
            "application/vnd.google.colaboratory.intrinsic+json": {
              "type": "string"
            }
          },
          "metadata": {},
          "execution_count": 9
        }
      ]
    },
    {
      "cell_type": "code",
      "source": [
        "\"oi\"* 3"
      ],
      "metadata": {
        "colab": {
          "base_uri": "https://localhost:8080/",
          "height": 35
        },
        "id": "IFdlf51lB1t-",
        "outputId": "e257f8b2-552c-4c16-89ae-504d7344583f"
      },
      "execution_count": null,
      "outputs": [
        {
          "output_type": "execute_result",
          "data": {
            "text/plain": [
              "'oioioi'"
            ],
            "application/vnd.google.colaboratory.intrinsic+json": {
              "type": "string"
            }
          },
          "metadata": {},
          "execution_count": 15
        }
      ]
    },
    {
      "cell_type": "markdown",
      "source": [
        "Funções\n"
      ],
      "metadata": {
        "id": "Yes_bUaeBxWp"
      }
    },
    {
      "cell_type": "code",
      "source": [
        "\"amanda\".upper()"
      ],
      "metadata": {
        "colab": {
          "base_uri": "https://localhost:8080/",
          "height": 35
        },
        "id": "n3yTzDb7BQ2Y",
        "outputId": "29cf525b-eec1-4ade-8a3c-7a514bb1445e"
      },
      "execution_count": null,
      "outputs": [
        {
          "output_type": "execute_result",
          "data": {
            "text/plain": [
              "'AMANDA'"
            ],
            "application/vnd.google.colaboratory.intrinsic+json": {
              "type": "string"
            }
          },
          "metadata": {},
          "execution_count": 13
        }
      ]
    },
    {
      "cell_type": "code",
      "source": [
        "len('Amanda')"
      ],
      "metadata": {
        "colab": {
          "base_uri": "https://localhost:8080/"
        },
        "id": "J6KuphJTBdoJ",
        "outputId": "06275a31-2327-4289-fc14-66f5ef2efb79"
      },
      "execution_count": null,
      "outputs": [
        {
          "output_type": "execute_result",
          "data": {
            "text/plain": [
              "6"
            ]
          },
          "metadata": {},
          "execution_count": 14
        }
      ]
    },
    {
      "cell_type": "markdown",
      "source": [
        "Erros"
      ],
      "metadata": {
        "id": "c0tp8r64CVyF"
      }
    },
    {
      "cell_type": "markdown",
      "source": [],
      "metadata": {
        "id": "xhT_1VWmCWxy"
      }
    },
    {
      "cell_type": "code",
      "source": [
        "len(304023)\n"
      ],
      "metadata": {
        "colab": {
          "base_uri": "https://localhost:8080/",
          "height": 144
        },
        "id": "oYReV9FJGwc1",
        "outputId": "0f2354a6-20b9-4cd4-9bba-db0f6324c6d6"
      },
      "execution_count": null,
      "outputs": [
        {
          "output_type": "error",
          "ename": "TypeError",
          "evalue": "object of type 'int' has no len()",
          "traceback": [
            "\u001b[0;31m---------------------------------------------------------------------------\u001b[0m",
            "\u001b[0;31mTypeError\u001b[0m                                 Traceback (most recent call last)",
            "\u001b[0;32m<ipython-input-16-80853d3793b8>\u001b[0m in \u001b[0;36m<cell line: 1>\u001b[0;34m()\u001b[0m\n\u001b[0;32m----> 1\u001b[0;31m \u001b[0mlen\u001b[0m\u001b[0;34m(\u001b[0m\u001b[0;36m304023\u001b[0m\u001b[0;34m)\u001b[0m\u001b[0;34m\u001b[0m\u001b[0;34m\u001b[0m\u001b[0m\n\u001b[0m",
            "\u001b[0;31mTypeError\u001b[0m: object of type 'int' has no len()"
          ]
        }
      ]
    },
    {
      "cell_type": "markdown",
      "source": [
        "Gemini IA"
      ],
      "metadata": {
        "id": "kEA4niPEHH9T"
      }
    },
    {
      "cell_type": "markdown",
      "source": [
        "Variáveis"
      ],
      "metadata": {
        "id": "L1AE9QXDJBCP"
      }
    },
    {
      "cell_type": "markdown",
      "source": [],
      "metadata": {
        "id": "vRBMGSs3JMxE"
      }
    },
    {
      "cell_type": "code",
      "source": [
        "nome = \"Ola\"\n",
        "nome"
      ],
      "metadata": {
        "colab": {
          "base_uri": "https://localhost:8080/",
          "height": 35
        },
        "id": "OYS_ibsEJN9m",
        "outputId": "1d2efc66-af17-4d7e-ad03-22c1ee739bfb"
      },
      "execution_count": null,
      "outputs": [
        {
          "output_type": "execute_result",
          "data": {
            "text/plain": [
              "'Ola'"
            ],
            "application/vnd.google.colaboratory.intrinsic+json": {
              "type": "string"
            }
          },
          "metadata": {},
          "execution_count": 18
        }
      ]
    },
    {
      "cell_type": "code",
      "source": [
        "a = 4\n",
        "b = 6\n",
        "c = a + b\n",
        "c"
      ],
      "metadata": {
        "colab": {
          "base_uri": "https://localhost:8080/"
        },
        "id": "4dkyguQDJZJ_",
        "outputId": "ff672b61-b4c6-46f9-a8ac-8aab7c6ce8b3"
      },
      "execution_count": null,
      "outputs": [
        {
          "output_type": "execute_result",
          "data": {
            "text/plain": [
              "10"
            ]
          },
          "metadata": {},
          "execution_count": 20
        }
      ]
    },
    {
      "cell_type": "code",
      "source": [
        "cidade= \"Tokyo\"\n",
        "cidad"
      ],
      "metadata": {
        "colab": {
          "base_uri": "https://localhost:8080/",
          "height": 162
        },
        "id": "tqOZsj_fJf7H",
        "outputId": "ab123368-43ed-4b5d-f08b-0dd5067a8778"
      },
      "execution_count": null,
      "outputs": [
        {
          "output_type": "error",
          "ename": "NameError",
          "evalue": "name 'cidad' is not defined",
          "traceback": [
            "\u001b[0;31m---------------------------------------------------------------------------\u001b[0m",
            "\u001b[0;31mNameError\u001b[0m                                 Traceback (most recent call last)",
            "\u001b[0;32m<ipython-input-21-2cf19e29a0ec>\u001b[0m in \u001b[0;36m<cell line: 2>\u001b[0;34m()\u001b[0m\n\u001b[1;32m      1\u001b[0m \u001b[0mcidade\u001b[0m\u001b[0;34m=\u001b[0m \u001b[0;34m\"Tokyo\"\u001b[0m\u001b[0;34m\u001b[0m\u001b[0;34m\u001b[0m\u001b[0m\n\u001b[0;32m----> 2\u001b[0;31m \u001b[0mcidad\u001b[0m\u001b[0;34m\u001b[0m\u001b[0;34m\u001b[0m\u001b[0m\n\u001b[0m",
            "\u001b[0;31mNameError\u001b[0m: name 'cidad' is not defined"
          ]
        }
      ]
    },
    {
      "cell_type": "markdown",
      "source": [
        "A função print"
      ],
      "metadata": {
        "id": "mXEPLZMiKQW0"
      }
    },
    {
      "cell_type": "markdown",
      "source": [
        "Listas\n"
      ],
      "metadata": {
        "id": "98DOvf5xKDHO"
      }
    },
    {
      "cell_type": "code",
      "source": [
        "loteria = [3, 42, 12, 19, 30, 59]\n",
        "loteria\n",
        "len(loteria)"
      ],
      "metadata": {
        "colab": {
          "base_uri": "https://localhost:8080/"
        },
        "id": "WAYllfesKFb3",
        "outputId": "a3ab8d9c-d015-43db-e0a4-3fcd3afbba07"
      },
      "execution_count": null,
      "outputs": [
        {
          "output_type": "execute_result",
          "data": {
            "text/plain": [
              "6"
            ]
          },
          "metadata": {},
          "execution_count": 24
        }
      ]
    },
    {
      "cell_type": "code",
      "source": [
        "print(loteria)\n",
        "loteria.sort()\n",
        "loteria"
      ],
      "metadata": {
        "colab": {
          "base_uri": "https://localhost:8080/"
        },
        "id": "3yAGJ00rKiSH",
        "outputId": "77d1a434-f674-4012-b470-89d87f915bd5"
      },
      "execution_count": null,
      "outputs": [
        {
          "output_type": "stream",
          "name": "stdout",
          "text": [
            "[3, 12, 19, 30, 42, 59]\n"
          ]
        },
        {
          "output_type": "execute_result",
          "data": {
            "text/plain": [
              "[3, 12, 19, 30, 42, 59]"
            ]
          },
          "metadata": {},
          "execution_count": 28
        }
      ]
    },
    {
      "cell_type": "markdown",
      "source": [
        "Dicionários"
      ],
      "metadata": {
        "id": "psjb9hc9LMW7"
      }
    },
    {
      "cell_type": "code",
      "source": [
        "participante = {'nome': 'Ola', 'pais': 'Polonia', 'numeros_favoritos': [7, 42, 92]}"
      ],
      "metadata": {
        "id": "Is1wMwPTLQYe"
      },
      "execution_count": null,
      "outputs": []
    },
    {
      "cell_type": "code",
      "source": [],
      "metadata": {
        "id": "lQpbS6k2LRTd"
      },
      "execution_count": null,
      "outputs": []
    },
    {
      "cell_type": "markdown",
      "source": [
        "Fazendo comparações\n"
      ],
      "metadata": {
        "id": "KKE8wUHHLuH2"
      }
    },
    {
      "cell_type": "code",
      "source": [],
      "metadata": {
        "id": "TF9FPwNkLvf4"
      },
      "execution_count": null,
      "outputs": []
    },
    {
      "cell_type": "markdown",
      "source": [
        "Condições"
      ],
      "metadata": {
        "id": "1QoXdAKqL76K"
      }
    },
    {
      "cell_type": "code",
      "source": [
        "if 3 > 2:\n",
        "    print('Isso funciona!')"
      ],
      "metadata": {
        "colab": {
          "base_uri": "https://localhost:8080/"
        },
        "id": "xw8AuuPHMBVl",
        "outputId": "fd1e5592-18af-4b98-d0f8-e111058ca761"
      },
      "execution_count": null,
      "outputs": [
        {
          "output_type": "stream",
          "name": "stdout",
          "text": [
            "Isso funciona!\n"
          ]
        }
      ]
    },
    {
      "cell_type": "code",
      "source": [],
      "metadata": {
        "id": "ct6ua0_wMOHj"
      },
      "execution_count": null,
      "outputs": []
    },
    {
      "cell_type": "markdown",
      "source": [
        "Suas próprias funções\n"
      ],
      "metadata": {
        "id": "EYOsLO4xMOhk"
      }
    },
    {
      "cell_type": "markdown",
      "source": [
        "https://afropython.gitbook.io/tutorial/introducao-3/listas"
      ],
      "metadata": {
        "id": "-YKhfpPwM4Qu"
      }
    },
    {
      "cell_type": "code",
      "source": [],
      "metadata": {
        "id": "u3C3PrhZxyVT"
      },
      "execution_count": null,
      "outputs": []
    }
  ]
}
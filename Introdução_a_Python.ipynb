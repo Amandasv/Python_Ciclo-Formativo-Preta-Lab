{
  "nbformat": 4,
  "nbformat_minor": 0,
  "metadata": {
    "colab": {
      "provenance": [],
      "collapsed_sections": [
        "4rrPjHUf1Yt1",
        "jdjgzaSV2T_m",
        "MR0lZz_e2gbU",
        "VkD-E7-E3AsR"
      ],
      "toc_visible": true,
      "authorship_tag": "ABX9TyMnACnfcQkwkpKsCrt+46EB",
      "include_colab_link": true
    },
    "kernelspec": {
      "name": "python3",
      "display_name": "Python 3"
    },
    "language_info": {
      "name": "python"
    }
  },
  "cells": [
    {
      "cell_type": "markdown",
      "metadata": {
        "id": "view-in-github",
        "colab_type": "text"
      },
      "source": [
        "<a href=\"https://colab.research.google.com/github/Amandasv/Python_Ciclo-Formativo-Preta-Lab/blob/main/Introdu%C3%A7%C3%A3o_a_Python.ipynb\" target=\"_parent\"><img src=\"https://colab.research.google.com/assets/colab-badge.svg\" alt=\"Open In Colab\"/></a>"
      ]
    },
    {
      "cell_type": "markdown",
      "source": [
        "# Introdução a Python\n",
        "\n",
        "Python é uma das linguagens de programação mais populares do mundo nos últimos anos. Chegando a estar no primeiro lugar 1 lugar em muitos rankings pelo mundo.\n",
        "\n",
        "É uma linguagem extremamente versátil, funcionando tanto para o aprendizado de máquinas, construção de sites até para automação de tarefas e testes de softwares.\n",
        "\n",
        "Além disso, também é muito próxima da linguagem humana, facilitando o aprendizado e manutenção."
      ],
      "metadata": {
        "id": "sfxpH7Abzuwk"
      }
    },
    {
      "cell_type": "markdown",
      "source": [
        "## Mas, o que é Python?\n",
        "Python é uma linguagem de programação de uso geral. Como falado anteriormente, essa linguagem funciona para criar uma grande variedade de aplicações diferentes, como desenvolvimento de software, análise de dados, inteligência artificial, automação de tarefas, criação de aplicativos web e daí por diante."
      ],
      "metadata": {
        "id": "Lff72gS9vaOY"
      }
    },
    {
      "cell_type": "markdown",
      "source": [
        "## Algumas caracteristicas\n",
        "\n",
        "### Linguagem interpretada\n",
        "Significa que ela não precisa passar pelo processo de compilação. O processo de interpretação é executado dentro de máquinas virtuais, nas quais o código passa por uma camada intermediária que irá traduzir os comandos de programa para código binário.\n",
        "\n",
        "### Sintaxe simples\n",
        "Se trata de uma linguagem de alto nível. Sua sintaxe é simples, fácil de aprender e muito próxima da linguagem falada por nós.\n",
        "\n",
        "\n",
        "### Áreas que mais utilizam Python\n",
        "\n",
        "\n",
        "1.   Análise de Dados;\n",
        "2.   Aprendizado de Máquina;\n",
        "3.   Desenvolvimento Web;\n",
        "4.   DevOps.;\n",
        "\n"
      ],
      "metadata": {
        "id": "mOEL1KRIv2u2"
      }
    },
    {
      "cell_type": "markdown",
      "source": [
        "# Hora de Praticar\n"
      ],
      "metadata": {
        "id": "zvy1r_Vv0MHt"
      }
    },
    {
      "cell_type": "markdown",
      "source": [
        "### Python como uma calculadora"
      ],
      "metadata": {
        "id": "4rrPjHUf1Yt1"
      }
    },
    {
      "cell_type": "markdown",
      "source": [],
      "metadata": {
        "id": "mGOb0tSr2O9P"
      }
    },
    {
      "cell_type": "code",
      "source": [
        "2 + 3"
      ],
      "metadata": {
        "id": "M8-nowfBXCN7"
      },
      "execution_count": null,
      "outputs": []
    },
    {
      "cell_type": "code",
      "source": [
        "5 * 4"
      ],
      "metadata": {
        "id": "MVxcMIPQ1k1l"
      },
      "execution_count": null,
      "outputs": []
    },
    {
      "cell_type": "code",
      "source": [
        "(12450983 * 9902 + 32) / 57"
      ],
      "metadata": {
        "id": "l-oDw2p31pZz"
      },
      "execution_count": null,
      "outputs": []
    },
    {
      "cell_type": "markdown",
      "source": [
        "### Strings"
      ],
      "metadata": {
        "id": "jdjgzaSV2T_m"
      }
    },
    {
      "cell_type": "code",
      "source": [
        "\"Amanda\""
      ],
      "metadata": {
        "id": "xFmW_BV5y7-n"
      },
      "execution_count": null,
      "outputs": []
    },
    {
      "cell_type": "code",
      "source": [
        "\"Meu nome é\""
      ],
      "metadata": {
        "id": "99plPeFi2j9a"
      },
      "execution_count": null,
      "outputs": []
    },
    {
      "cell_type": "markdown",
      "source": [
        "### Operadores"
      ],
      "metadata": {
        "id": "MR0lZz_e2gbU"
      }
    },
    {
      "cell_type": "code",
      "source": [
        "\"Oi\" + \"Amanda\""
      ],
      "metadata": {
        "id": "TCq2EKJIy821"
      },
      "execution_count": null,
      "outputs": []
    },
    {
      "cell_type": "code",
      "source": [
        "\"oi\"* 3"
      ],
      "metadata": {
        "id": "IFdlf51lB1t-"
      },
      "execution_count": null,
      "outputs": []
    },
    {
      "cell_type": "markdown",
      "source": [
        "### Funções"
      ],
      "metadata": {
        "id": "VkD-E7-E3AsR"
      }
    },
    {
      "cell_type": "code",
      "source": [
        "\"amanda\".upper()"
      ],
      "metadata": {
        "id": "n3yTzDb7BQ2Y"
      },
      "execution_count": null,
      "outputs": []
    },
    {
      "cell_type": "code",
      "source": [
        "len('Amanda')"
      ],
      "metadata": {
        "id": "J6KuphJTBdoJ"
      },
      "execution_count": null,
      "outputs": []
    },
    {
      "cell_type": "markdown",
      "source": [
        "### Erros"
      ],
      "metadata": {
        "id": "f6-zvaXf3Rn7"
      }
    },
    {
      "cell_type": "code",
      "source": [
        "len(304023)\n"
      ],
      "metadata": {
        "id": "oYReV9FJGwc1"
      },
      "execution_count": null,
      "outputs": []
    },
    {
      "cell_type": "markdown",
      "source": [
        "### Gemini IA\n"
      ],
      "metadata": {
        "id": "vcolYA5s32Se"
      }
    },
    {
      "cell_type": "markdown",
      "source": [
        "# Avançando um pouco mais\n"
      ],
      "metadata": {
        "id": "RpGMFFca4Q7E"
      }
    },
    {
      "cell_type": "markdown",
      "source": [
        "### Variáveis\n"
      ],
      "metadata": {
        "id": "ISGwNDHh4m0X"
      }
    },
    {
      "cell_type": "code",
      "source": [
        "nome = \"Ola\"\n",
        "nome"
      ],
      "metadata": {
        "id": "OYS_ibsEJN9m"
      },
      "execution_count": null,
      "outputs": []
    },
    {
      "cell_type": "code",
      "source": [
        "a = 4\n",
        "b = 6\n",
        "c = a + b\n",
        "c"
      ],
      "metadata": {
        "id": "4dkyguQDJZJ_"
      },
      "execution_count": null,
      "outputs": []
    },
    {
      "cell_type": "code",
      "source": [
        "cidade= \"Tokyo\"\n",
        "cidad"
      ],
      "metadata": {
        "id": "tqOZsj_fJf7H"
      },
      "execution_count": null,
      "outputs": []
    },
    {
      "cell_type": "markdown",
      "source": [
        "### Listas\n"
      ],
      "metadata": {
        "id": "ResTH90F5KX4"
      }
    },
    {
      "cell_type": "code",
      "source": [
        "loteria = [3, 42, 12, 19, 30, 59]\n",
        "loteria\n",
        "len(loteria)"
      ],
      "metadata": {
        "id": "WAYllfesKFb3"
      },
      "execution_count": null,
      "outputs": []
    },
    {
      "cell_type": "code",
      "source": [
        "lista_de_compras = ['arroz', 'feijão', 'ovo']\n",
        "lista_de_compras.append('leite')\n",
        "lista_de_compras"
      ],
      "metadata": {
        "id": "_BOhw3ZB5nFc"
      },
      "execution_count": null,
      "outputs": []
    },
    {
      "cell_type": "markdown",
      "source": [
        "### Print()\n"
      ],
      "metadata": {
        "id": "-U3ApYqQ5YkO"
      }
    },
    {
      "cell_type": "code",
      "source": [
        "print(loteria)\n",
        "loteria.sort()\n",
        "loteria"
      ],
      "metadata": {
        "id": "3yAGJ00rKiSH"
      },
      "execution_count": null,
      "outputs": []
    },
    {
      "cell_type": "markdown",
      "source": [
        "### Dicionários\n"
      ],
      "metadata": {
        "id": "vIAi2HRo7Dja"
      }
    },
    {
      "cell_type": "code",
      "source": [
        "participante = {'nome': 'Rebeca', 'pais': 'Brasil', 'numeros_favoritos': [7, 42, 92]}\n",
        "print(participante)"
      ],
      "metadata": {
        "id": "Is1wMwPTLQYe"
      },
      "execution_count": null,
      "outputs": []
    },
    {
      "cell_type": "code",
      "source": [
        "print(participante['nome'])\n"
      ],
      "metadata": {
        "id": "lQpbS6k2LRTd"
      },
      "execution_count": null,
      "outputs": []
    },
    {
      "cell_type": "code",
      "source": [
        "print(len(participante['numeros_favoritos']))"
      ],
      "metadata": {
        "id": "RBZpVhmD77Q9"
      },
      "execution_count": null,
      "outputs": []
    },
    {
      "cell_type": "markdown",
      "source": [
        "### Comparações\n"
      ],
      "metadata": {
        "id": "rj01qnul8FWb"
      }
    },
    {
      "cell_type": "code",
      "source": [
        "5 > 4"
      ],
      "metadata": {
        "id": "TF9FPwNkLvf4"
      },
      "execution_count": null,
      "outputs": []
    },
    {
      "cell_type": "code",
      "source": [
        "2 < 1"
      ],
      "metadata": {
        "id": "Lt-dRvql8SFU"
      },
      "execution_count": null,
      "outputs": []
    },
    {
      "cell_type": "code",
      "source": [
        "10 < 7 * 3"
      ],
      "metadata": {
        "id": "GWjpFBp38WL3"
      },
      "execution_count": null,
      "outputs": []
    },
    {
      "cell_type": "markdown",
      "source": [
        "#### Igual ou Diferente\n"
      ],
      "metadata": {
        "id": "9oeihviO88Qn"
      }
    },
    {
      "cell_type": "code",
      "source": [
        "3 == 3"
      ],
      "metadata": {
        "id": "wvWOaJr68PNd"
      },
      "execution_count": null,
      "outputs": []
    },
    {
      "cell_type": "code",
      "source": [
        "3 != 3"
      ],
      "metadata": {
        "id": "96MYTxAt8dYe"
      },
      "execution_count": null,
      "outputs": []
    },
    {
      "cell_type": "markdown",
      "source": [
        "#### Maior ou igual (>=) e Menor ou igual (<=)\n"
      ],
      "metadata": {
        "id": "NFGHhg5I9o4W"
      }
    },
    {
      "cell_type": "code",
      "source": [
        "3 >= 3"
      ],
      "metadata": {
        "id": "1PXurJJk8xzh"
      },
      "execution_count": null,
      "outputs": []
    },
    {
      "cell_type": "code",
      "source": [
        "9 <=4"
      ],
      "metadata": {
        "id": "6o5rg8qq8sK1"
      },
      "execution_count": null,
      "outputs": []
    },
    {
      "cell_type": "code",
      "source": [
        "5 >= 3"
      ],
      "metadata": {
        "id": "mm0Ou4VY8ngJ"
      },
      "execution_count": null,
      "outputs": []
    },
    {
      "cell_type": "markdown",
      "source": [
        "#### and e or\n"
      ],
      "metadata": {
        "id": "RlJzy5MH9Y7C"
      }
    },
    {
      "cell_type": "code",
      "source": [
        "6 > 5 and 5 > 4"
      ],
      "metadata": {
        "id": "tW5b-9qz95zE"
      },
      "execution_count": null,
      "outputs": []
    },
    {
      "cell_type": "code",
      "source": [
        "6 > 5 or 5 > 4"
      ],
      "metadata": {
        "id": "gaOQgniv-MOF"
      },
      "execution_count": null,
      "outputs": []
    },
    {
      "cell_type": "code",
      "source": [
        "'maça' > 3"
      ],
      "metadata": {
        "id": "xRP7ZaNx-q_Y"
      },
      "execution_count": null,
      "outputs": []
    },
    {
      "cell_type": "markdown",
      "source": [
        "### Booleanos\n"
      ],
      "metadata": {
        "id": "6zt5iLy0_Peh"
      }
    },
    {
      "cell_type": "code",
      "source": [
        "a = True\n",
        "a\n"
      ],
      "metadata": {
        "id": "mnnNNuvK_UAH"
      },
      "execution_count": null,
      "outputs": []
    },
    {
      "cell_type": "code",
      "source": [
        "a = 3 > 4\n",
        "a"
      ],
      "metadata": {
        "id": "D7C-85ad_Ywy"
      },
      "execution_count": null,
      "outputs": []
    },
    {
      "cell_type": "code",
      "source": [
        "True and True"
      ],
      "metadata": {
        "id": "NpRzjzV__gJe"
      },
      "execution_count": null,
      "outputs": []
    },
    {
      "cell_type": "code",
      "source": [
        "True and False"
      ],
      "metadata": {
        "id": "I-00vqHu_qDC"
      },
      "execution_count": null,
      "outputs": []
    },
    {
      "cell_type": "code",
      "source": [
        "True and true"
      ],
      "metadata": {
        "id": "Z-Cmxlj5_kdt"
      },
      "execution_count": null,
      "outputs": []
    },
    {
      "cell_type": "code",
      "source": [
        "True and false"
      ],
      "metadata": {
        "id": "cJi5FFyF_tXO"
      },
      "execution_count": null,
      "outputs": []
    },
    {
      "cell_type": "code",
      "source": [
        "True and 3 < 4 == 3"
      ],
      "metadata": {
        "id": "vR2Iz6pz_wpI"
      },
      "execution_count": null,
      "outputs": []
    },
    {
      "cell_type": "markdown",
      "source": [
        "### Condições\n"
      ],
      "metadata": {
        "id": "eC3SOzYZAcbF"
      }
    },
    {
      "cell_type": "code",
      "source": [
        "if 3 > 2:\n",
        "    print('Isso funciona!')"
      ],
      "metadata": {
        "id": "xw8AuuPHMBVl"
      },
      "execution_count": null,
      "outputs": []
    },
    {
      "cell_type": "code",
      "source": [
        "if True:\n",
        "    print('Isso também funciona!')"
      ],
      "metadata": {
        "id": "ct6ua0_wMOHj"
      },
      "execution_count": null,
      "outputs": []
    },
    {
      "cell_type": "code",
      "source": [
        "if False:\n",
        "    print('Isso não funciona!')"
      ],
      "metadata": {
        "id": "n2OZCpJ-AqsP"
      },
      "execution_count": 67,
      "outputs": []
    },
    {
      "cell_type": "code",
      "source": [
        "if 5 < 2:\n",
        "    print('5 é menor que 2')\n",
        "else:\n",
        "    print('5 não é maior que 2')"
      ],
      "metadata": {
        "id": "SqLDaDaSAzPn"
      },
      "execution_count": null,
      "outputs": []
    },
    {
      "cell_type": "code",
      "source": [
        "estado = 'RS'\n",
        "if estado == 'RJ':\n",
        "    print('O cliente vive em Rio de Janeiro')\n",
        "elif estado == 'SP':\n",
        "    print('O cliente vive em São Paulo')\n",
        "elif estado == 'MG':\n",
        "    print('O cliente vive em Minas Gerais')\n",
        "else:\n",
        "    print('O cliente vive em outro lugar')"
      ],
      "metadata": {
        "id": "0AO6NAR1BclJ"
      },
      "execution_count": null,
      "outputs": []
    },
    {
      "cell_type": "markdown",
      "source": [
        "Suas próprias funções\n"
      ],
      "metadata": {
        "id": "EYOsLO4xMOhk"
      }
    },
    {
      "cell_type": "markdown",
      "source": [
        "https://afropython.gitbook.io/tutorial/introducao-3/listas"
      ],
      "metadata": {
        "id": "-YKhfpPwM4Qu"
      }
    },
    {
      "cell_type": "code",
      "source": [],
      "metadata": {
        "id": "u3C3PrhZxyVT"
      },
      "execution_count": null,
      "outputs": []
    }
  ]
}